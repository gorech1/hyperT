{
  "nbformat": 4,
  "nbformat_minor": 0,
  "metadata": {
    "colab": {
      "name": "fundus_processing_resize.ipynb",
      "provenance": [],
      "collapsed_sections": [],
      "authorship_tag": "ABX9TyNbXqrBjhgb6tZ5IJuq1D5C",
      "include_colab_link": true
    },
    "kernelspec": {
      "name": "python3",
      "display_name": "Python 3"
    },
    "language_info": {
      "name": "python"
    }
  },
  "cells": [
    {
      "cell_type": "markdown",
      "metadata": {
        "id": "view-in-github",
        "colab_type": "text"
      },
      "source": [
        "<a href=\"https://colab.research.google.com/github/gorech1/hyperT/blob/main/fundus_processing_resize.ipynb\" target=\"_parent\"><img src=\"https://colab.research.google.com/assets/colab-badge.svg\" alt=\"Open In Colab\"/></a>"
      ]
    },
    {
      "cell_type": "code",
      "execution_count": 4,
      "metadata": {
        "id": "Pj-icatRmfn4"
      },
      "outputs": [],
      "source": [
        "#import libraries\n",
        "from os import listdir\n",
        "from os.path import isfile, join"
      ]
    },
    {
      "cell_type": "code",
      "source": [
        ""
      ],
      "metadata": {
        "id": "OaT8h0sQDYCU"
      },
      "execution_count": null,
      "outputs": []
    },
    {
      "cell_type": "code",
      "execution_count": 2,
      "metadata": {
        "id": "RWSJpsyKqHjH",
        "colab": {
          "base_uri": "https://localhost:8080/"
        },
        "outputId": "fd9d152b-75d1-4f86-efde-b9a82cf37681"
      },
      "outputs": [
        {
          "output_type": "stream",
          "name": "stdout",
          "text": [
            "Mounted at /content/drive\n"
          ]
        }
      ],
      "source": [
        "#los datos(circulos)los tengo en el drive asociado a la cuenta gcp.gorech1\n",
        "from google.colab import drive\n",
        "drive.mount('/content/drive')\n"
      ]
    },
    {
      "cell_type": "code",
      "source": [
        "import logging\n",
        "import PIL\n",
        "import os\n",
        "from PIL import Image\n",
        "\n",
        "# This class allows you to resize and mirror an image of the dataset according to specific rules\n",
        "\n",
        "\n",
        "class ImageResizer:\n",
        "    def __init__(self, image_width, quality, source_folder, destination_folder, file_name, keep_aspect_ratio):\n",
        "        self.logger = logging.getLogger('odir')\n",
        "        self.image_width = image_width\n",
        "        self.quality = quality\n",
        "        self.source_folder = source_folder\n",
        "        self.destination_folder= destination_folder\n",
        "        self.file_name = file_name\n",
        "        self.keep_aspect_ration = keep_aspect_ratio\n",
        "\n",
        "    def run(self):\n",
        "        \"\"\" Runs the image library using the constructor arguments.\n",
        "        Args:\n",
        "          No arguments are required.\n",
        "        Returns:\n",
        "          Saves the treated image into a separate folder.\n",
        "        \"\"\"\n",
        "        # We load the original file, we resize it to a smaller width and correspondent height and\n",
        "        # also mirror the image when we find a right eye image so they are all left eyes\n",
        "\n",
        "        file = os.path.join(self.source_folder, self.file_name)\n",
        "        img = Image.open(file)\n",
        "        if self.keep_aspect_ration:\n",
        "            # it will have the exact same width-to-height ratio as the original photo\n",
        "            width_percentage = (self.image_width / float(img.size[0]))\n",
        "            height_size = int((float(img.size[1]) * float(width_percentage)))\n",
        "            img = img.resize((self.image_width, height_size), PIL.Image.ANTIALIAS)\n",
        "        else:\n",
        "            # This will force the image to be square\n",
        "            img = img.resize((self.image_width, self.image_width), PIL.Image.ANTIALIAS)\n",
        "        if \"right\" in self.file_name:\n",
        "            self.logger.debug(\"Right eye image found. Flipping it\")\n",
        "            img.transpose(Image.FLIP_LEFT_RIGHT).save(os.path.join(self.destination_folder, self.file_name), optimize=True, quality=self.quality)\n",
        "        else:\n",
        "            img.save(os.path.join(self.destination_folder, self.file_name), optimize=True, quality=self.quality)\n",
        "        self.logger.debug(\"Image saved\")\n",
        "\n"
      ],
      "metadata": {
        "id": "pK8A9-ZPVNMs"
      },
      "execution_count": 5,
      "outputs": []
    },
    {
      "cell_type": "code",
      "source": [
        "#treat image and resize\n",
        "def process_all_images():\n",
        "    initial_count = 0 \n",
        "    files = [f for f in listdir(source_folder) if isfile(join(source_folder, f))]\n",
        "    for file in files:\n",
        "        ImageResizer(image_width, quality, source_folder, destination_folder, file, keep_aspect_ratio).run()\n",
        "        print('Processing image: ' + file)\n",
        "        initial_count += 1\n",
        "    print ('Tratados '+str(initial_count)+'/'+str(len(files))+' archivos' )\n",
        "\n",
        "if __name__ == '__main__':\n",
        "    # Set the base width of the image to 200 pixels\n",
        "    image_width = 224\n",
        "    keep_aspect_ratio = False\n",
        "    # set the quality of the resultant jpeg to 100%\n",
        "    quality = 100\n",
        "    source_folder =f'/content/drive/My Drive/datos/hyperT/cropped'\n",
        "    destination_folder =f'/content/drive/My Drive/datos/hyperT/resized'\n",
        "    \n",
        "    process_all_images()"
      ],
      "metadata": {
        "id": "nu_z6yIZnHnQ",
        "colab": {
          "base_uri": "https://localhost:8080/"
        },
        "outputId": "292272ab-d49e-4323-9c3d-6b34a97cd993"
      },
      "execution_count": 8,
      "outputs": [
        {
          "output_type": "stream",
          "name": "stdout",
          "text": [
            "Processing image: 1045_left.jpg\n",
            "Processing image: 1046_left.jpg\n",
            "Processing image: 1045_right.jpg\n",
            "Processing image: 1046_right.jpg\n",
            "Processing image: 1048_left.jpg\n",
            "Processing image: 1048_right.jpg\n",
            "Processing image: 1081_left.jpg\n",
            "Processing image: 1081_right.jpg\n",
            "Processing image: 116_left.jpg\n",
            "Processing image: 116_right.jpg\n",
            "Processing image: 179_left.jpg\n",
            "Processing image: 179_right.jpg\n",
            "Processing image: 1833_right.jpg\n",
            "Processing image: 1833_left.jpg\n",
            "Processing image: 1867_left.jpg\n",
            "Processing image: 1867_right.jpg\n",
            "Processing image: 1989_left.jpg\n",
            "Processing image: 1989_right.jpg\n",
            "Processing image: 2004_left.jpg\n",
            "Processing image: 2004_right.jpg\n",
            "Processing image: 2066_left.jpg\n",
            "Processing image: 2066_right.jpg\n",
            "Processing image: 2070_left.jpg\n",
            "Processing image: 2070_right.jpg\n",
            "Processing image: 23_left.jpg\n",
            "Processing image: 23_right.jpg\n",
            "Processing image: 272_left.jpg\n",
            "Processing image: 272_right.jpg\n",
            "Processing image: 28_left.jpg\n",
            "Processing image: 28_right.jpg\n",
            "Processing image: 300_left.jpg\n",
            "Processing image: 300_right.jpg\n",
            "Processing image: 32_left.jpg\n",
            "Processing image: 32_right.jpg\n",
            "Processing image: 355_left.jpg\n",
            "Processing image: 355_right.jpg\n",
            "Processing image: 374_left.jpg\n",
            "Processing image: 374_right.jpg\n",
            "Processing image: 4559_left.jpg\n",
            "Processing image: 4559_right.jpg\n",
            "Processing image: 4562_left.jpg\n",
            "Processing image: 4562_right.jpg\n",
            "Processing image: 4579_left.jpg\n",
            "Processing image: 4579_right.jpg\n",
            "Processing image: 4581_left.jpg\n",
            "Processing image: 4581_right.jpg\n",
            "Processing image: 4592_left.jpg\n",
            "Processing image: 4592_right.jpg\n",
            "Processing image: 45_left.jpg\n",
            "Processing image: 45_right.jpg\n",
            "Processing image: 561_right.jpg\n",
            "Processing image: 561_left.jpg\n",
            "Processing image: 62_left.jpg\n",
            "Processing image: 62_right.jpg\n",
            "Processing image: 686_left.jpg\n",
            "Processing image: 686_right.jpg\n",
            "Processing image: 723_left.jpg\n",
            "Processing image: 723_right.jpg\n",
            "Processing image: 759_left.jpg\n",
            "Processing image: 759_right.jpg\n",
            "Processing image: 777_left.jpg\n",
            "Processing image: 777_right.jpg\n",
            "Processing image: 790_left.jpg\n",
            "Processing image: 790_right.jpg\n",
            "Processing image: 849_left.jpg\n",
            "Processing image: 849_right.jpg\n",
            "Processing image: 957_left.jpg\n",
            "Processing image: 957_right.jpg\n",
            "Processing image: 968_left.jpg\n",
            "Processing image: 968_right.jpg\n",
            "Processing image: 983_left.jpg\n",
            "Processing image: 983_right.jpg\n",
            "Tratados 72/72 archivos\n"
          ]
        }
      ]
    }
  ]
}