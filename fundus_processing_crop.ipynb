{
  "nbformat": 4,
  "nbformat_minor": 0,
  "metadata": {
    "colab": {
      "name": "fundus_processing_crop.ipynb",
      "provenance": [],
      "authorship_tag": "ABX9TyOylE61NnMMnFCqCQR+drcX",
      "include_colab_link": true
    },
    "kernelspec": {
      "name": "python3",
      "display_name": "Python 3"
    },
    "language_info": {
      "name": "python"
    }
  },
  "cells": [
    {
      "cell_type": "markdown",
      "metadata": {
        "id": "view-in-github",
        "colab_type": "text"
      },
      "source": [
        "<a href=\"https://colab.research.google.com/github/gorech1/hyperT/blob/main/fundus_processing_crop.ipynb\" target=\"_parent\"><img src=\"https://colab.research.google.com/assets/colab-badge.svg\" alt=\"Open In Colab\"/></a>"
      ]
    },
    {
      "cell_type": "code",
      "execution_count": 52,
      "metadata": {
        "id": "Pj-icatRmfn4"
      },
      "outputs": [],
      "source": [
        "#import libraries\n",
        "import cv2\n",
        "import numpy as np\n",
        "import logging\n",
        "import os\n",
        "#import logging.config\n",
        "\n",
        "from os import listdir\n",
        "from os.path import isfile, join"
      ]
    },
    {
      "cell_type": "code",
      "source": [
        ""
      ],
      "metadata": {
        "id": "OaT8h0sQDYCU"
      },
      "execution_count": null,
      "outputs": []
    },
    {
      "cell_type": "code",
      "execution_count": 46,
      "metadata": {
        "id": "RWSJpsyKqHjH",
        "colab": {
          "base_uri": "https://localhost:8080/"
        },
        "outputId": "fffa3065-4418-46c7-b50b-5be6e59a42b2"
      },
      "outputs": [
        {
          "output_type": "stream",
          "name": "stdout",
          "text": [
            "Mounted at /content/drive\n"
          ]
        }
      ],
      "source": [
        "#los datos(circulos)los tengo en el drive asociado a la cuenta gcp.gorech1\n",
        "from google.colab import drive\n",
        "drive.mount('/content/drive')\n"
      ]
    },
    {
      "cell_type": "markdown",
      "source": [
        "##He intentado (sin exito) procesar los archivos directamente en \"Google Cloud Storage\"\n",
        "\n",
        "#\"Google Cloud Storage\" data access  \n",
        "project_id = 'pr1eye'\n",
        "!gcloud config set project {project_id}\n",
        "\n",
        "#Los archivos de GCS se almacenan en segmentos. You can make a bucket using the make bucket (mb) command. GCP buckets must have a universally unique name, so use the preinstalled uuid library to generate a Universally Unique ID:.\n",
        "import uuid\n",
        "bucket_name = f'fundus_diseases_bucket-{uuid.uuid1()}'\n",
        "!gsutil mb gs://{bucket_name}\n",
        "\n",
        "\n",
        "#Para poder acceder a GCS, debemos autenticarnos.\n",
        "from google.colab import auth\n",
        "auth.authenticate_user()"
      ],
      "metadata": {
        "id": "42KMASgVIXGo"
      }
    },
    {
      "cell_type": "code",
      "source": [
        "#treat image and remove the excess black area of the images \n",
        "class ImageCrop:\n",
        "    def __init__(self, source_folder, destination_folder, file_name):\n",
        "        self.logger = logging.getLogger('odir')\n",
        "        self.source_folder = source_folder\n",
        "        self.destination_folder = destination_folder\n",
        "        self.file_name = file_name\n",
        "\n",
        "    def remove_black_pixels(self):\n",
        "        file = os.path.join(self.source_folder, self.file_name)\n",
        "        image = cv2.imread(file)\n",
        "\n",
        "        # Mask of coloured pixels.\n",
        "        mask = image > 0\n",
        "\n",
        "        # Coordinates of coloured pixels.\n",
        "        coordinates = np.argwhere(mask)\n",
        "\n",
        "        # Binding box of non-black pixels.\n",
        "        x0, y0, s0 = coordinates.min(axis=0)\n",
        "        x1, y1, s1 = coordinates.max(axis=0) + 1  # slices are exclusive at the top\n",
        "\n",
        "        # Get the contents of the bounding box.\n",
        "        cropped = image[x0:x1, y0:y1]\n",
        "        # overwrite the same file\n",
        "        file_cropped = os.path.join(self.destination_folder, self.file_name)\n",
        "        cv2.imwrite(file_cropped, cropped)"
      ],
      "metadata": {
        "id": "nu_z6yIZnHnQ"
      },
      "execution_count": 56,
      "outputs": []
    },
    {
      "cell_type": "code",
      "source": [
        "#loop for treat all the  images \n",
        "# Note that this will alter the current training image set folder\n",
        "\n",
        "def process_all_images():\n",
        "    initial_count = 0 \n",
        "    files = [f for f in listdir(source_folder) if isfile(join(source_folder, f))]\n",
        "    for file in files:\n",
        "        print('Processing image: ' + file)\n",
        "        ImageCrop(source_folder, destination_folder, file).remove_black_pixels()\n",
        "        initial_count += 1\n",
        "    print ('Tratados '+str(initial_count)+'/'+str(len(files))+' archivos' )\n",
        "\n",
        "#tratar las imagenes de la carperta hyperT\n",
        "if __name__ == '__main__':\n",
        "    source_folder =f'/content/drive/My Drive/datos/hyperT/'\n",
        "    #source_folder = f'gs://{bucket_name}/hyperT'\n",
        "    destination_folder = f'/content/drive/My Drive/datos/hyperT/cropped'\n",
        "    process_all_images()"
      ],
      "metadata": {
        "colab": {
          "base_uri": "https://localhost:8080/"
        },
        "id": "cEW2eO4AndGQ",
        "outputId": "aa3977c8-bb71-447a-c867-2067aeb5b88b"
      },
      "execution_count": 61,
      "outputs": [
        {
          "output_type": "stream",
          "name": "stdout",
          "text": [
            "Hay 72 archivos\n",
            "Processing image: 1045_left.jpg\n",
            "Processing image: 1046_left.jpg\n",
            "Processing image: 1045_right.jpg\n",
            "Processing image: 1046_right.jpg\n",
            "Processing image: 1048_left.jpg\n",
            "Processing image: 1048_right.jpg\n",
            "Processing image: 1081_left.jpg\n",
            "Processing image: 1081_right.jpg\n",
            "Processing image: 116_left.jpg\n",
            "Processing image: 116_right.jpg\n",
            "Processing image: 179_left.jpg\n",
            "Processing image: 179_right.jpg\n",
            "Processing image: 1833_right.jpg\n",
            "Processing image: 1833_left.jpg\n",
            "Processing image: 1867_left.jpg\n",
            "Processing image: 1867_right.jpg\n",
            "Processing image: 1989_left.jpg\n",
            "Processing image: 1989_right.jpg\n",
            "Processing image: 2004_left.jpg\n",
            "Processing image: 2004_right.jpg\n",
            "Processing image: 2066_left.jpg\n",
            "Processing image: 2066_right.jpg\n",
            "Processing image: 2070_left.jpg\n",
            "Processing image: 2070_right.jpg\n",
            "Processing image: 23_left.jpg\n",
            "Processing image: 23_right.jpg\n",
            "Processing image: 272_left.jpg\n",
            "Processing image: 272_right.jpg\n",
            "Processing image: 28_left.jpg\n",
            "Processing image: 28_right.jpg\n",
            "Processing image: 300_left.jpg\n",
            "Processing image: 300_right.jpg\n",
            "Processing image: 32_left.jpg\n",
            "Processing image: 32_right.jpg\n",
            "Processing image: 355_left.jpg\n",
            "Processing image: 355_right.jpg\n",
            "Processing image: 374_left.jpg\n",
            "Processing image: 374_right.jpg\n",
            "Processing image: 4559_left.jpg\n",
            "Processing image: 4559_right.jpg\n",
            "Processing image: 4562_left.jpg\n",
            "Processing image: 4562_right.jpg\n",
            "Processing image: 4579_left.jpg\n",
            "Processing image: 4579_right.jpg\n",
            "Processing image: 4581_left.jpg\n",
            "Processing image: 4581_right.jpg\n",
            "Processing image: 4592_left.jpg\n",
            "Processing image: 4592_right.jpg\n",
            "Processing image: 45_left.jpg\n",
            "Processing image: 45_right.jpg\n",
            "Processing image: 561_right.jpg\n",
            "Processing image: 561_left.jpg\n",
            "Processing image: 62_left.jpg\n",
            "Processing image: 62_right.jpg\n",
            "Processing image: 686_left.jpg\n",
            "Processing image: 686_right.jpg\n",
            "Processing image: 723_left.jpg\n",
            "Processing image: 723_right.jpg\n",
            "Processing image: 759_left.jpg\n",
            "Processing image: 759_right.jpg\n",
            "Processing image: 777_left.jpg\n",
            "Processing image: 777_right.jpg\n",
            "Processing image: 790_left.jpg\n",
            "Processing image: 790_right.jpg\n",
            "Processing image: 849_left.jpg\n",
            "Processing image: 849_right.jpg\n",
            "Processing image: 957_left.jpg\n",
            "Processing image: 957_right.jpg\n",
            "Processing image: 968_left.jpg\n",
            "Processing image: 968_right.jpg\n",
            "Processing image: 983_left.jpg\n",
            "Processing image: 983_right.jpg\n",
            "Tratados 72 archivos\n"
          ]
        }
      ]
    },
    {
      "cell_type": "markdown",
      "source": [
        ""
      ],
      "metadata": {
        "id": "p3GS0CgnIRXc"
      }
    }
  ]
}