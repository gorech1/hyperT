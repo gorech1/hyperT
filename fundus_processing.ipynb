{
  "nbformat": 4,
  "nbformat_minor": 0,
  "metadata": {
    "colab": {
      "name": "fundus_processing.ipynb",
      "provenance": [],
      "authorship_tag": "ABX9TyOCS6XXuC5xzw7aQ01TKsva",
      "include_colab_link": true
    },
    "kernelspec": {
      "name": "python3",
      "display_name": "Python 3"
    },
    "language_info": {
      "name": "python"
    }
  },
  "cells": [
    {
      "cell_type": "markdown",
      "metadata": {
        "id": "view-in-github",
        "colab_type": "text"
      },
      "source": [
        "<a href=\"https://colab.research.google.com/github/gorech1/hyperT/blob/main/fundus_processing.ipynb\" target=\"_parent\"><img src=\"https://colab.research.google.com/assets/colab-badge.svg\" alt=\"Open In Colab\"/></a>"
      ]
    },
    {
      "cell_type": "code",
      "execution_count": 4,
      "metadata": {
        "id": "Pj-icatRmfn4"
      },
      "outputs": [],
      "source": [
        "#import libraries\n",
        "import cv2\n",
        "import numpy as np\n",
        "import logging\n",
        "import os\n",
        "import logging.config\n",
        "\n",
        "from os import listdir\n",
        "from os.path import isfile, join"
      ]
    },
    {
      "cell_type": "code",
      "source": [
        ""
      ],
      "metadata": {
        "id": "OaT8h0sQDYCU"
      },
      "execution_count": null,
      "outputs": []
    },
    {
      "cell_type": "code",
      "execution_count": null,
      "metadata": {
        "id": "RWSJpsyKqHjH",
        "colab": {
          "base_uri": "https://localhost:8080/"
        },
        "outputId": "790c9df1-8baa-4fc8-a1fa-1737e610495c"
      },
      "outputs": [
        {
          "output_type": "stream",
          "name": "stdout",
          "text": [
            "Drive already mounted at /content/drive; to attempt to forcibly remount, call drive.mount(\"/content/drive\", force_remount=True).\n"
          ]
        }
      ],
      "source": [
        "#los datos(circulos)los tengo en el drive asociado a la cuenta gcp.gorech1\n",
        "from google.colab import drive\n",
        "drive.mount('/content/drive')\n"
      ]
    },
    {
      "cell_type": "code",
      "source": [
        "#\"Google Cloud Storage\" data access  \n",
        "project_id = 'pr1eye'\n",
        "!gcloud config set project {project_id}\n",
        "\n",
        "#Los archivos de GCS se almacenan en segmentos. You can make a bucket using the make bucket (mb) command. GCP buckets must have a universally unique name, so use the preinstalled uuid library to generate a Universally Unique ID:.\n",
        "import uuid\n",
        "bucket_name = f'fundus_diseases_bucket-{uuid.uuid1()}'\n",
        "!gsutil mb gs://{bucket_name}\n",
        "\n",
        "\n",
        "#Para poder acceder a GCS, debemos autenticarnos.\n",
        "from google.colab import auth\n",
        "auth.authenticate_user()\n",
        "\n",
        "\n"
      ],
      "metadata": {
        "colab": {
          "base_uri": "https://localhost:8080/"
        },
        "id": "H2fm_7lJsKzo",
        "outputId": "963bab0a-743d-49ec-c307-4ef2b5fe8ae8"
      },
      "execution_count": 28,
      "outputs": [
        {
          "output_type": "stream",
          "name": "stdout",
          "text": [
            "Updated property [core/project].\n",
            "Creating gs://fundus_diseases_bucket-b95e2e24-e31e-11ec-b67f-0242ac1c0002/...\n"
          ]
        }
      ]
    },
    {
      "cell_type": "code",
      "source": [
        "!gsutil cp gs://fundus_diseases_bucket/hyperT/* gs://{bucket_name}/hyperT/"
      ],
      "metadata": {
        "colab": {
          "base_uri": "https://localhost:8080/"
        },
        "id": "Ixlg_Otd397w",
        "outputId": "bf47d982-59b6-4d90-d868-12654a864e47"
      },
      "execution_count": 31,
      "outputs": [
        {
          "output_type": "stream",
          "name": "stdout",
          "text": [
            "Copying gs://fundus_diseases_bucket/hyperT/1045_left.jpg [Content-Type=image/jpeg]...\n",
            "Copying gs://fundus_diseases_bucket/hyperT/1045_right.jpg [Content-Type=image/jpeg]...\n",
            "Copying gs://fundus_diseases_bucket/hyperT/1046_left.jpg [Content-Type=image/jpeg]...\n",
            "Copying gs://fundus_diseases_bucket/hyperT/1046_right.jpg [Content-Type=image/jpeg]...\n",
            "\\ [4 files][500.4 KiB/500.4 KiB]                                                \n",
            "==> NOTE: You are performing a sequence of gsutil operations that may\n",
            "run significantly faster if you instead use gsutil -m cp ... Please\n",
            "see the -m section under \"gsutil help options\" for further information\n",
            "about when gsutil -m can be advantageous.\n",
            "\n",
            "Copying gs://fundus_diseases_bucket/hyperT/1048_left.jpg [Content-Type=image/jpeg]...\n",
            "Copying gs://fundus_diseases_bucket/hyperT/1048_right.jpg [Content-Type=image/jpeg]...\n",
            "Copying gs://fundus_diseases_bucket/hyperT/1081_left.jpg [Content-Type=image/jpeg]...\n",
            "Copying gs://fundus_diseases_bucket/hyperT/1081_right.jpg [Content-Type=image/jpeg]...\n",
            "Copying gs://fundus_diseases_bucket/hyperT/116_left.jpg [Content-Type=image/jpeg]...\n",
            "Copying gs://fundus_diseases_bucket/hyperT/116_right.jpg [Content-Type=image/jpeg]...\n",
            "Copying gs://fundus_diseases_bucket/hyperT/179_left.jpg [Content-Type=image/jpeg]...\n",
            "Copying gs://fundus_diseases_bucket/hyperT/179_right.jpg [Content-Type=image/jpeg]...\n",
            "Copying gs://fundus_diseases_bucket/hyperT/1833_left.jpg [Content-Type=image/jpeg]...\n",
            "Copying gs://fundus_diseases_bucket/hyperT/1833_right.jpg [Content-Type=image/jpeg]...\n",
            "Copying gs://fundus_diseases_bucket/hyperT/1867_left.jpg [Content-Type=image/jpeg]...\n",
            "Copying gs://fundus_diseases_bucket/hyperT/1867_right.jpg [Content-Type=image/jpeg]...\n",
            "Copying gs://fundus_diseases_bucket/hyperT/1989_left.jpg [Content-Type=image/jpeg]...\n",
            "Copying gs://fundus_diseases_bucket/hyperT/1989_right.jpg [Content-Type=image/jpeg]...\n",
            "Copying gs://fundus_diseases_bucket/hyperT/2004_left.jpg [Content-Type=image/jpeg]...\n",
            "Copying gs://fundus_diseases_bucket/hyperT/2004_right.jpg [Content-Type=image/jpeg]...\n",
            "Copying gs://fundus_diseases_bucket/hyperT/2066_left.jpg [Content-Type=image/jpeg]...\n",
            "Copying gs://fundus_diseases_bucket/hyperT/2066_right.jpg [Content-Type=image/jpeg]...\n",
            "Copying gs://fundus_diseases_bucket/hyperT/2070_left.jpg [Content-Type=image/jpeg]...\n",
            "Copying gs://fundus_diseases_bucket/hyperT/2070_right.jpg [Content-Type=image/jpeg]...\n",
            "Copying gs://fundus_diseases_bucket/hyperT/23_left.jpg [Content-Type=image/jpeg]...\n",
            "Copying gs://fundus_diseases_bucket/hyperT/23_right.jpg [Content-Type=image/jpeg]...\n",
            "Copying gs://fundus_diseases_bucket/hyperT/272_left.jpg [Content-Type=image/jpeg]...\n",
            "Copying gs://fundus_diseases_bucket/hyperT/272_right.jpg [Content-Type=image/jpeg]...\n",
            "Copying gs://fundus_diseases_bucket/hyperT/28_left.jpg [Content-Type=image/jpeg]...\n",
            "Copying gs://fundus_diseases_bucket/hyperT/28_right.jpg [Content-Type=image/jpeg]...\n",
            "Copying gs://fundus_diseases_bucket/hyperT/300_left.jpg [Content-Type=image/jpeg]...\n",
            "Copying gs://fundus_diseases_bucket/hyperT/300_right.jpg [Content-Type=image/jpeg]...\n",
            "Copying gs://fundus_diseases_bucket/hyperT/32_left.jpg [Content-Type=image/jpeg]...\n",
            "Copying gs://fundus_diseases_bucket/hyperT/32_right.jpg [Content-Type=image/jpeg]...\n",
            "Copying gs://fundus_diseases_bucket/hyperT/355_left.jpg [Content-Type=image/jpeg]...\n",
            "Copying gs://fundus_diseases_bucket/hyperT/355_right.jpg [Content-Type=image/jpeg]...\n",
            "Copying gs://fundus_diseases_bucket/hyperT/374_left.jpg [Content-Type=image/jpeg]...\n",
            "Copying gs://fundus_diseases_bucket/hyperT/374_right.jpg [Content-Type=image/jpeg]...\n",
            "Copying gs://fundus_diseases_bucket/hyperT/4559_left.jpg [Content-Type=image/jpeg]...\n",
            "Copying gs://fundus_diseases_bucket/hyperT/4559_right.jpg [Content-Type=image/jpeg]...\n",
            "Copying gs://fundus_diseases_bucket/hyperT/4562_left.jpg [Content-Type=image/jpeg]...\n",
            "Copying gs://fundus_diseases_bucket/hyperT/4562_right.jpg [Content-Type=image/jpeg]...\n",
            "Copying gs://fundus_diseases_bucket/hyperT/4579_left.jpg [Content-Type=image/jpeg]...\n",
            "Copying gs://fundus_diseases_bucket/hyperT/4579_right.jpg [Content-Type=image/jpeg]...\n",
            "Copying gs://fundus_diseases_bucket/hyperT/4581_left.jpg [Content-Type=image/jpeg]...\n",
            "Copying gs://fundus_diseases_bucket/hyperT/4581_right.jpg [Content-Type=image/jpeg]...\n",
            "Copying gs://fundus_diseases_bucket/hyperT/4592_left.jpg [Content-Type=image/jpeg]...\n",
            "Copying gs://fundus_diseases_bucket/hyperT/4592_right.jpg [Content-Type=image/jpeg]...\n",
            "Copying gs://fundus_diseases_bucket/hyperT/45_left.jpg [Content-Type=image/jpeg]...\n",
            "Copying gs://fundus_diseases_bucket/hyperT/45_right.jpg [Content-Type=image/jpeg]...\n",
            "Copying gs://fundus_diseases_bucket/hyperT/561_left.jpg [Content-Type=image/jpeg]...\n",
            "Copying gs://fundus_diseases_bucket/hyperT/561_right.jpg [Content-Type=image/jpeg]...\n",
            "Copying gs://fundus_diseases_bucket/hyperT/62_left.jpg [Content-Type=image/jpeg]...\n",
            "Copying gs://fundus_diseases_bucket/hyperT/62_right.jpg [Content-Type=image/jpeg]...\n",
            "Copying gs://fundus_diseases_bucket/hyperT/686_left.jpg [Content-Type=image/jpeg]...\n",
            "Copying gs://fundus_diseases_bucket/hyperT/686_right.jpg [Content-Type=image/jpeg]...\n",
            "Copying gs://fundus_diseases_bucket/hyperT/723_left.jpg [Content-Type=image/jpeg]...\n",
            "Copying gs://fundus_diseases_bucket/hyperT/723_right.jpg [Content-Type=image/jpeg]...\n",
            "Copying gs://fundus_diseases_bucket/hyperT/759_left.jpg [Content-Type=image/jpeg]...\n",
            "Copying gs://fundus_diseases_bucket/hyperT/759_right.jpg [Content-Type=image/jpeg]...\n",
            "Copying gs://fundus_diseases_bucket/hyperT/777_left.jpg [Content-Type=image/jpeg]...\n",
            "Copying gs://fundus_diseases_bucket/hyperT/777_right.jpg [Content-Type=image/jpeg]...\n",
            "Copying gs://fundus_diseases_bucket/hyperT/790_left.jpg [Content-Type=image/jpeg]...\n",
            "Copying gs://fundus_diseases_bucket/hyperT/790_right.jpg [Content-Type=image/jpeg]...\n",
            "Copying gs://fundus_diseases_bucket/hyperT/849_left.jpg [Content-Type=image/jpeg]...\n",
            "Copying gs://fundus_diseases_bucket/hyperT/849_right.jpg [Content-Type=image/jpeg]...\n",
            "Copying gs://fundus_diseases_bucket/hyperT/957_left.jpg [Content-Type=image/jpeg]...\n",
            "Copying gs://fundus_diseases_bucket/hyperT/957_right.jpg [Content-Type=image/jpeg]...\n",
            "Copying gs://fundus_diseases_bucket/hyperT/968_left.jpg [Content-Type=image/jpeg]...\n",
            "Copying gs://fundus_diseases_bucket/hyperT/968_right.jpg [Content-Type=image/jpeg]...\n",
            "Copying gs://fundus_diseases_bucket/hyperT/983_left.jpg [Content-Type=image/jpeg]...\n",
            "Copying gs://fundus_diseases_bucket/hyperT/983_right.jpg [Content-Type=image/jpeg]...\n",
            "/ [72 files][ 12.8 MiB/ 12.8 MiB]  463.2 KiB/s                                  \n",
            "==> NOTE: You are performing a sequence of gsutil operations that may\n",
            "run significantly faster if you instead use gsutil -m cp ... Please\n",
            "see the -m section under \"gsutil help options\" for further information\n",
            "about when gsutil -m can be advantageous.\n",
            "\n",
            "\n",
            "Operation completed over 72 objects/12.8 MiB.                                    \n"
          ]
        }
      ]
    },
    {
      "cell_type": "code",
      "source": [
        "#treat image and remove the excess black area of the images \n",
        "class ImageCrop:\n",
        "    def __init__(self, source_folder, destination_folder, file_name):\n",
        "        self.logger = logging.getLogger('odir')\n",
        "        self.source_folder = source_folder\n",
        "        self.destination_folder = destination_folder\n",
        "        self.file_name = file_name\n",
        "\n",
        "    def remove_black_pixels(self):\n",
        "        file = os.path.join(self.source_folder, self.file_name)\n",
        "        image = cv2.imread(file)\n",
        "\n",
        "        # Mask of coloured pixels.\n",
        "        mask = image > 0\n",
        "\n",
        "        # Coordinates of coloured pixels.\n",
        "        coordinates = np.argwhere(mask)\n",
        "\n",
        "        # Binding box of non-black pixels.\n",
        "        x0, y0, s0 = coordinates.min(axis=0)\n",
        "        x1, y1, s1 = coordinates.max(axis=0) + 1  # slices are exclusive at the top\n",
        "\n",
        "        # Get the contents of the bounding box.\n",
        "        cropped = image[x0:x1, y0:y1]\n",
        "        # overwrite the same file\n",
        "        file_cropped = os.path.join(self.destination_folder, self.file_name)\n",
        "        cv2.imwrite(file_cropped, cropped)"
      ],
      "metadata": {
        "id": "nu_z6yIZnHnQ"
      },
      "execution_count": 11,
      "outputs": []
    },
    {
      "cell_type": "code",
      "source": [
        "#loop for treat all the  images \n",
        "# Note that this will alter the current training image set folder\n",
        "\n",
        "def process_all_images():\n",
        "    files = [f for f in listdir(source_folder) if isfile(join(source_folder, f))]\n",
        "    for file in files:\n",
        "        logger.debug('Processing image: ' + file)\n",
        "        ImageCrop(source_folder, destination_folder, file).remove_black_pixels()\n",
        "\n",
        "\n",
        "if __name__ == '__main__':\n",
        "    source_folder =f'/content/drive/My Drive/datos/hyperT/'\n",
        "    #source_folder = f'gs://{bucket_name}/hyperT'\n",
        "    destination_folder = f'/content/drive/My Drive/datos/hyperT/cropped'\n",
        "    # create logger\n",
        "    #logging.config.fileConfig('logging.conf')\n",
        "    #logger = logging.getLogger('odir')\n",
        "    process_all_images()"
      ],
      "metadata": {
        "colab": {
          "base_uri": "https://localhost:8080/",
          "height": 322
        },
        "id": "cEW2eO4AndGQ",
        "outputId": "32d8d2be-0a11-41c2-de74-c5ff33bca499"
      },
      "execution_count": 44,
      "outputs": [
        {
          "output_type": "error",
          "ename": "FileNotFoundError",
          "evalue": "ignored",
          "traceback": [
            "\u001b[0;31m---------------------------------------------------------------------------\u001b[0m",
            "\u001b[0;31mFileNotFoundError\u001b[0m                         Traceback (most recent call last)",
            "\u001b[0;32m<ipython-input-44-5bacde9479fd>\u001b[0m in \u001b[0;36m<module>\u001b[0;34m()\u001b[0m\n\u001b[1;32m     17\u001b[0m     \u001b[0;31m#logging.config.fileConfig('logging.conf')\u001b[0m\u001b[0;34m\u001b[0m\u001b[0;34m\u001b[0m\u001b[0;34m\u001b[0m\u001b[0m\n\u001b[1;32m     18\u001b[0m     \u001b[0;31m#logger = logging.getLogger('odir')\u001b[0m\u001b[0;34m\u001b[0m\u001b[0;34m\u001b[0m\u001b[0;34m\u001b[0m\u001b[0m\n\u001b[0;32m---> 19\u001b[0;31m     \u001b[0mprocess_all_images\u001b[0m\u001b[0;34m(\u001b[0m\u001b[0;34m)\u001b[0m\u001b[0;34m\u001b[0m\u001b[0;34m\u001b[0m\u001b[0m\n\u001b[0m",
            "\u001b[0;32m<ipython-input-44-5bacde9479fd>\u001b[0m in \u001b[0;36mprocess_all_images\u001b[0;34m()\u001b[0m\n\u001b[1;32m      3\u001b[0m \u001b[0;34m\u001b[0m\u001b[0m\n\u001b[1;32m      4\u001b[0m \u001b[0;32mdef\u001b[0m \u001b[0mprocess_all_images\u001b[0m\u001b[0;34m(\u001b[0m\u001b[0;34m)\u001b[0m\u001b[0;34m:\u001b[0m\u001b[0;34m\u001b[0m\u001b[0;34m\u001b[0m\u001b[0m\n\u001b[0;32m----> 5\u001b[0;31m     \u001b[0mfiles\u001b[0m \u001b[0;34m=\u001b[0m \u001b[0;34m[\u001b[0m\u001b[0mf\u001b[0m \u001b[0;32mfor\u001b[0m \u001b[0mf\u001b[0m \u001b[0;32min\u001b[0m \u001b[0mlistdir\u001b[0m\u001b[0;34m(\u001b[0m\u001b[0msource_folder\u001b[0m\u001b[0;34m)\u001b[0m \u001b[0;32mif\u001b[0m \u001b[0misfile\u001b[0m\u001b[0;34m(\u001b[0m\u001b[0mjoin\u001b[0m\u001b[0;34m(\u001b[0m\u001b[0msource_folder\u001b[0m\u001b[0;34m,\u001b[0m \u001b[0mf\u001b[0m\u001b[0;34m)\u001b[0m\u001b[0;34m)\u001b[0m\u001b[0;34m]\u001b[0m\u001b[0;34m\u001b[0m\u001b[0;34m\u001b[0m\u001b[0m\n\u001b[0m\u001b[1;32m      6\u001b[0m     \u001b[0;32mfor\u001b[0m \u001b[0mfile\u001b[0m \u001b[0;32min\u001b[0m \u001b[0mfiles\u001b[0m\u001b[0;34m:\u001b[0m\u001b[0;34m\u001b[0m\u001b[0;34m\u001b[0m\u001b[0m\n\u001b[1;32m      7\u001b[0m         \u001b[0mlogger\u001b[0m\u001b[0;34m.\u001b[0m\u001b[0mdebug\u001b[0m\u001b[0;34m(\u001b[0m\u001b[0;34m'Processing image: '\u001b[0m \u001b[0;34m+\u001b[0m \u001b[0mfile\u001b[0m\u001b[0;34m)\u001b[0m\u001b[0;34m\u001b[0m\u001b[0;34m\u001b[0m\u001b[0m\n",
            "\u001b[0;31mFileNotFoundError\u001b[0m: [Errno 2] No such file or directory: 'gs://fundus_diseases_bucket/hyperT/'"
          ]
        }
      ]
    }
  ]
}